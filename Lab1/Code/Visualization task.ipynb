{
 "cells": [
  {
   "cell_type": "code",
   "execution_count": 1,
   "metadata": {},
   "outputs": [],
   "source": [
    "## Some imports might be redundant because the code was split up into pieces\n",
    "import pandas as pd\n",
    "import numpy as np\n",
    "import datetime\n",
    "import time\n",
    "import matplotlib.pyplot as plt\n",
    "from sklearn import neighbors\n",
    "from sklearn.metrics import precision_recall_curve\n",
    "from sklearn.metrics import classification_report\n",
    "from sklearn.model_selection import train_test_split\n",
    "from sklearn.metrics import confusion_matrix\n",
    "from operator import itemgetter\n",
    "from itertools import groupby\n",
    "import seaborn as sns\n",
    "from sklearn.model_selection import cross_val_score"
   ]
  },
  {
   "cell_type": "code",
   "execution_count": 2,
   "metadata": {},
   "outputs": [],
   "source": [
    "# Set the plot size\n",
    "sns.set(rc={'figure.figsize':(11.7,8.27)})"
   ]
  },
  {
   "cell_type": "code",
   "execution_count": null,
   "metadata": {},
   "outputs": [],
   "source": [
    "# Read the data in pandas\n",
    "data = pd.read_csv(\"data_for_student_case.csv\")\n",
    "data['bookingdate'] =  pd.to_datetime(data['bookingdate'])\n",
    "data['creationdate'] =  pd.to_datetime(data['creationdate'])\n",
    "\n",
    "# Delete the refused transactions (but keep them for later use maybe)\n",
    "refused_data = data.loc[data['simple_journal'] == \"Refused\", :]\n",
    "dataset = data.loc[data['simple_journal'] != \"Refused\", :]\n",
    "dataset['bool_fraud'] = (dataset['simple_journal'] == \"Chargeback\").copy().astype(int)\n",
    "dataset['bool_valid'] = (dataset['simple_journal'] == \"Settled\").copy().astype(int)"
   ]
  }
 ],
 "metadata": {
  "kernelspec": {
   "display_name": "Python 3",
   "language": "python",
   "name": "python3"
  },
  "language_info": {
   "codemirror_mode": {
    "name": "ipython",
    "version": 3
   },
   "file_extension": ".py",
   "mimetype": "text/x-python",
   "name": "python",
   "nbconvert_exporter": "python",
   "pygments_lexer": "ipython3",
   "version": "3.7.3rc1"
  }
 },
 "nbformat": 4,
 "nbformat_minor": 2
}
